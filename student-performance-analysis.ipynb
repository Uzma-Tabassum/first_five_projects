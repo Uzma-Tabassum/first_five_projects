{
 "cells": [
  {
   "cell_type": "markdown",
   "id": "63ee50f7",
   "metadata": {
    "papermill": {
     "duration": 0.012413,
     "end_time": "2023-08-15T18:27:14.401166",
     "exception": false,
     "start_time": "2023-08-15T18:27:14.388753",
     "status": "completed"
    },
    "tags": []
   },
   "source": [
    "# <span style=\"color:purple\">Student Performance Analysis 🎓 🏆 📖</span> \n"
   ]
  },
  {
   "attachments": {
    "student4.jpg": {
     "image/jpeg": "[encoded data removed]"
    }
   },
   "cell_type": "markdown",
   "id": "80f131b9",
   "metadata": {
    "papermill": {
     "duration": 0.011463,
     "end_time": "2023-08-15T18:27:14.424727",
     "exception": false,
     "start_time": "2023-08-15T18:27:14.413264",
     "status": "completed"
    },
    "tags": []
   },
   "source": [
    "![student4.jpg](attachment:student4.jpg)"
   ]
  },
  {
   "cell_type": "markdown",
   "id": "f31b5b03",
   "metadata": {
    "papermill": {
     "duration": 0.012195,
     "end_time": "2023-08-15T18:27:14.449696",
     "exception": false,
     "start_time": "2023-08-15T18:27:14.437501",
     "status": "completed"
    },
    "tags": []
   },
   "source": [
    "# <span style=\"color:purple\"> Introduction </span>\n",
    "\n",
    "I am **Uzma Tabassum**. I have chosen **Student performance dataset** to analyse."
   ]
  },
  {
   "cell_type": "markdown",
   "id": "b3c0051e",
   "metadata": {
    "papermill": {
     "duration": 0.01243,
     "end_time": "2023-08-15T18:27:14.474785",
     "exception": false,
     "start_time": "2023-08-15T18:27:14.462355",
     "status": "completed"
    },
    "tags": []
   },
   "source": [
    "# <span style=\"color:purple\"> Task of case study </span>\n",
    "\n",
    "I want to analyse Student performance data and I want to find the reason behind good and bad performance of students in exams.\n",
    "Do parents education, student gender, prepation courses, race and lunch effect students performance."
   ]
  },
  {
   "cell_type": "markdown",
   "id": "209f7300",
   "metadata": {
    "papermill": {
     "duration": 0.01125,
     "end_time": "2023-08-15T18:27:14.499921",
     "exception": false,
     "start_time": "2023-08-15T18:27:14.488671",
     "status": "completed"
    },
    "tags": []
   },
   "source": [
    "# <span style=\"color:purple\"> A description of data sources used </span>\n",
    "I am using  **student performance datasets** here on kaggle. This is public datasets.\n",
    "\n",
    "\n"
   ]
  },
  {
   "cell_type": "markdown",
   "id": "b2233de3",
   "metadata": {
    "papermill": {
     "duration": 0.011992,
     "end_time": "2023-08-15T18:27:14.524357",
     "exception": false,
     "start_time": "2023-08-15T18:27:14.512365",
     "status": "completed"
    },
    "tags": []
   },
   "source": [
    "# <span style=\"color:purple\"> Loading packages </span>"
   ]
  },
  {
   "cell_type": "code",
   "execution_count": 1,
   "id": "c676c1ff",
   "metadata": {
    "execution": {
     "iopub.execute_input": "2023-08-15T18:27:14.552255Z",
     "iopub.status.busy": "2023-08-15T18:27:14.551170Z",
     "iopub.status.idle": "2023-08-15T18:27:14.564259Z",
     "shell.execute_reply": "2023-08-15T18:27:14.562884Z"
    },
    "papermill": {
     "duration": 0.030302,
     "end_time": "2023-08-15T18:27:14.567264",
     "exception": false,
     "start_time": "2023-08-15T18:27:14.536962",
     "status": "completed"
    },
    "tags": []
   },
   "outputs": [],
   "source": [
    "import pandas as pd\n",
    "import matplotlib \n",
    "from matplotlib import pyplot as plt"
   ]
  },
  {
   "cell_type": "markdown",
   "id": "d7af81e0",
   "metadata": {
    "papermill": {
     "duration": 0.011332,
     "end_time": "2023-08-15T18:27:14.590829",
     "exception": false,
     "start_time": "2023-08-15T18:27:14.579497",
     "status": "completed"
    },
    "tags": []
   },
   "source": [
    "# <span style=\"color:purple\"> Importing and Preview datasets </span>"
   ]
  },
  {
   "cell_type": "code",
   "execution_count": 2,
   "id": "36e291cf",
   "metadata": {
    "execution": {
     "iopub.execute_input": "2023-08-15T18:27:14.617878Z",
     "iopub.status.busy": "2023-08-15T18:27:14.617051Z",
     "iopub.status.idle": "2023-08-15T18:27:14.652261Z",
     "shell.execute_reply": "2023-08-15T18:27:14.650779Z"
    },
    "papermill": {
     "duration": 0.052952,
     "end_time": "2023-08-15T18:27:14.655632",
     "exception": false,
     "start_time": "2023-08-15T18:27:14.602680",
     "status": "completed"
    },
    "tags": []
   },
   "outputs": [],
   "source": [
    "df= pd.read_csv(\"/kaggle/input/students-performance-in-exams/StudentsPerformance.csv\")"
   ]
  },
  {
   "cell_type": "code",
   "execution_count": 3,
   "id": "227c859f",
   "metadata": {
    "execution": {
     "iopub.execute_input": "2023-08-15T18:27:14.683293Z",
     "iopub.status.busy": "2023-08-15T18:27:14.681777Z",
     "iopub.status.idle": "2023-08-15T18:27:14.712606Z",
     "shell.execute_reply": "2023-08-15T18:27:14.711291Z"
    },
    "papermill": {
     "duration": 0.04772,
     "end_time": "2023-08-15T18:27:14.715711",
     "exception": false,
     "start_time": "2023-08-15T18:27:14.667991",
     "status": "completed"
    },
    "tags": []
   },
   "outputs": [
    {
     "data": {
      "text/html": [
       "<div>\n",
       "<style scoped>\n",
       "    .dataframe tbody tr th:only-of-type {\n",
       "        vertical-align: middle;\n",
       "    }\n",
       "\n",
       "    .dataframe tbody tr th {\n",
       "        vertical-align: top;\n",
       "    }\n",
       "\n",
       "    .dataframe thead th {\n",
       "        text-align: right;\n",
       "    }\n",
       "</style>\n",
       "<table border=\"1\" class=\"dataframe\">\n",
       "  <thead>\n",
       "    <tr style=\"text-align: right;\">\n",
       "      <th></th>\n",
       "      <th>gender</th>\n",
       "      <th>race/ethnicity</th>\n",
       "      <th>parental level of education</th>\n",
       "      <th>lunch</th>\n",
       "      <th>test preparation course</th>\n",
       "      <th>math score</th>\n",
       "      <th>reading score</th>\n",
       "      <th>writing score</th>\n",
       "    </tr>\n",
       "  </thead>\n",
       "  <tbody>\n",
       "    <tr>\n",
       "      <th>0</th>\n",
       "      <td>female</td>\n",
       "      <td>group B</td>\n",
       "      <td>bachelor's degree</td>\n",
       "      <td>standard</td>\n",
       "      <td>none</td>\n",
       "      <td>72</td>\n",
       "      <td>72</td>\n",
       "      <td>74</td>\n",
       "    </tr>\n",
       "    <tr>\n",
       "      <th>1</th>\n",
       "      <td>female</td>\n",
       "      <td>group C</td>\n",
       "      <td>some college</td>\n",
       "      <td>standard</td>\n",
       "      <td>completed</td>\n",
       "      <td>69</td>\n",
       "      <td>90</td>\n",
       "      <td>88</td>\n",
       "    </tr>\n",
       "    <tr>\n",
       "      <th>2</th>\n",
       "      <td>female</td>\n",
       "      <td>group B</td>\n",
       "      <td>master's degree</td>\n",
       "      <td>standard</td>\n",
       "      <td>none</td>\n",
       "      <td>90</td>\n",
       "      <td>95</td>\n",
       "      <td>93</td>\n",
       "    </tr>\n",
       "    <tr>\n",
       "      <th>3</th>\n",
       "      <td>male</td>\n",
       "      <td>group A</td>\n",
       "      <td>associate's degree</td>\n",
       "      <td>free/reduced</td>\n",
       "      <td>none</td>\n",
       "      <td>47</td>\n",
       "      <td>57</td>\n",
       "      <td>44</td>\n",
       "    </tr>\n",
       "    <tr>\n",
       "      <th>4</th>\n",
       "      <td>male</td>\n",
       "      <td>group C</td>\n",
       "      <td>some college</td>\n",
       "      <td>standard</td>\n",
       "      <td>none</td>\n",
       "      <td>76</td>\n",
       "      <td>78</td>\n",
       "      <td>75</td>\n",
       "    </tr>\n",
       "    <tr>\n",
       "      <th>5</th>\n",
       "      <td>female</td>\n",
       "      <td>group B</td>\n",
       "      <td>associate's degree</td>\n",
       "      <td>standard</td>\n",
       "      <td>none</td>\n",
       "      <td>71</td>\n",
       "      <td>83</td>\n",
       "      <td>78</td>\n",
       "    </tr>\n",
       "    <tr>\n",
       "      <th>6</th>\n",
       "      <td>female</td>\n",
       "      <td>group B</td>\n",
       "      <td>some college</td>\n",
       "      <td>standard</td>\n",
       "      <td>completed</td>\n",
       "      <td>88</td>\n",
       "      <td>95</td>\n",
       "      <td>92</td>\n",
       "    </tr>\n",
       "    <tr>\n",
       "      <th>7</th>\n",
       "      <td>male</td>\n",
       "      <td>group B</td>\n",
       "      <td>some college</td>\n",
       "      <td>free/reduced</td>\n",
       "      <td>none</td>\n",
       "      <td>40</td>\n",
       "      <td>43</td>\n",
       "      <td>39</td>\n",
       "    </tr>\n",
       "    <tr>\n",
       "      <th>8</th>\n",
       "      <td>male</td>\n",
       "      <td>group D</td>\n",
       "      <td>high school</td>\n",
       "      <td>free/reduced</td>\n",
       "      <td>completed</td>\n",
       "      <td>64</td>\n",
       "      <td>64</td>\n",
       "      <td>67</td>\n",
       "    </tr>\n",
       "    <tr>\n",
       "      <th>9</th>\n",
       "      <td>female</td>\n",
       "      <td>group B</td>\n",
       "      <td>high school</td>\n",
       "      <td>free/reduced</td>\n",
       "      <td>none</td>\n",
       "      <td>38</td>\n",
       "      <td>60</td>\n",
       "      <td>50</td>\n",
       "    </tr>\n",
       "  </tbody>\n",
       "</table>\n",
       "</div>"
      ],
      "text/plain": [
       "   gender race/ethnicity parental level of education         lunch  \\\n",
       "0  female        group B           bachelor's degree      standard   \n",
       "1  female        group C                some college      standard   \n",
       "2  female        group B             master's degree      standard   \n",
       "3    male        group A          associate's degree  free/reduced   \n",
       "4    male        group C                some college      standard   \n",
       "5  female        group B          associate's degree      standard   \n",
       "6  female        group B                some college      standard   \n",
       "7    male        group B                some college  free/reduced   \n",
       "8    male        group D                 high school  free/reduced   \n",
       "9  female        group B                 high school  free/reduced   \n",
       "\n",
       "  test preparation course  math score  reading score  writing score  \n",
       "0                    none          72             72             74  \n",
       "1               completed          69             90             88  \n",
       "2                    none          90             95             93  \n",
       "3                    none          47             57             44  \n",
       "4                    none          76             78             75  \n",
       "5                    none          71             83             78  \n",
       "6               completed          88             95             92  \n",
       "7                    none          40             43             39  \n",
       "8               completed          64             64             67  \n",
       "9                    none          38             60             50  "
      ]
     },
     "execution_count": 3,
     "metadata": {},
     "output_type": "execute_result"
    }
   ],
   "source": [
    "df.head(10)"
   ]
  },
  {
   "cell_type": "markdown",
   "id": "5e0241a8",
   "metadata": {
    "papermill": {
     "duration": 0.013024,
     "end_time": "2023-08-15T18:27:14.742210",
     "exception": false,
     "start_time": "2023-08-15T18:27:14.729186",
     "status": "completed"
    },
    "tags": []
   },
   "source": [
    "# <span style=\"color:purple\"> Data Cleaning and Formatting</span>\n",
    "I am using\n",
    "**python programming language** for data cleaning in **jupyter notebook**. I will check duplicate or null value in data frame. I will check data types and then I will format data. After cleaning data, it will be ready to analyze."
   ]
  },
  {
   "cell_type": "code",
   "execution_count": 4,
   "id": "46f2b639",
   "metadata": {
    "execution": {
     "iopub.execute_input": "2023-08-15T18:27:14.770578Z",
     "iopub.status.busy": "2023-08-15T18:27:14.769264Z",
     "iopub.status.idle": "2023-08-15T18:27:14.776512Z",
     "shell.execute_reply": "2023-08-15T18:27:14.775670Z"
    },
    "papermill": {
     "duration": 0.023861,
     "end_time": "2023-08-15T18:27:14.778804",
     "exception": false,
     "start_time": "2023-08-15T18:27:14.754943",
     "status": "completed"
    },
    "tags": []
   },
   "outputs": [
    {
     "data": {
      "text/plain": [
       "Index(['gender', 'race/ethnicity', 'parental level of education', 'lunch',\n",
       "       'test preparation course', 'math score', 'reading score',\n",
       "       'writing score'],\n",
       "      dtype='object')"
      ]
     },
     "execution_count": 4,
     "metadata": {},
     "output_type": "execute_result"
    }
   ],
   "source": [
    "df.columns"
   ]
  },
  {
   "cell_type": "code",
   "execution_count": 5,
   "id": "578219f8",
   "metadata": {
    "execution": {
     "iopub.execute_input": "2023-08-15T18:27:14.806650Z",
     "iopub.status.busy": "2023-08-15T18:27:14.805839Z",
     "iopub.status.idle": "2023-08-15T18:27:14.814687Z",
     "shell.execute_reply": "2023-08-15T18:27:14.813490Z"
    },
    "papermill": {
     "duration": 0.025837,
     "end_time": "2023-08-15T18:27:14.817376",
     "exception": false,
     "start_time": "2023-08-15T18:27:14.791539",
     "status": "completed"
    },
    "tags": []
   },
   "outputs": [
    {
     "data": {
      "text/plain": [
       "gender                         object\n",
       "race/ethnicity                 object\n",
       "parental level of education    object\n",
       "lunch                          object\n",
       "test preparation course        object\n",
       "math score                      int64\n",
       "reading score                   int64\n",
       "writing score                   int64\n",
       "dtype: object"
      ]
     },
     "execution_count": 5,
     "metadata": {},
     "output_type": "execute_result"
    }
   ],
   "source": [
    "df.dtypes"
   ]
  },
  {
   "cell_type": "code",
   "execution_count": 6,
   "id": "2fe0043d",
   "metadata": {
    "execution": {
     "iopub.execute_input": "2023-08-15T18:27:14.844916Z",
     "iopub.status.busy": "2023-08-15T18:27:14.844432Z",
     "iopub.status.idle": "2023-08-15T18:27:14.904646Z",
     "shell.execute_reply": "2023-08-15T18:27:14.903433Z"
    },
    "papermill": {
     "duration": 0.078147,
     "end_time": "2023-08-15T18:27:14.908128",
     "exception": false,
     "start_time": "2023-08-15T18:27:14.829981",
     "status": "completed"
    },
    "tags": []
   },
   "outputs": [
    {
     "data": {
      "text/html": [
       "<div>\n",
       "<style scoped>\n",
       "    .dataframe tbody tr th:only-of-type {\n",
       "        vertical-align: middle;\n",
       "    }\n",
       "\n",
       "    .dataframe tbody tr th {\n",
       "        vertical-align: top;\n",
       "    }\n",
       "\n",
       "    .dataframe thead th {\n",
       "        text-align: right;\n",
       "    }\n",
       "</style>\n",
       "<table border=\"1\" class=\"dataframe\">\n",
       "  <thead>\n",
       "    <tr style=\"text-align: right;\">\n",
       "      <th></th>\n",
       "      <th>gender</th>\n",
       "      <th>race/ethnicity</th>\n",
       "      <th>parental level of education</th>\n",
       "      <th>lunch</th>\n",
       "      <th>test preparation course</th>\n",
       "      <th>math score</th>\n",
       "      <th>reading score</th>\n",
       "      <th>writing score</th>\n",
       "    </tr>\n",
       "  </thead>\n",
       "  <tbody>\n",
       "    <tr>\n",
       "      <th>count</th>\n",
       "      <td>1000</td>\n",
       "      <td>1000</td>\n",
       "      <td>1000</td>\n",
       "      <td>1000</td>\n",
       "      <td>1000</td>\n",
       "      <td>1000.00000</td>\n",
       "      <td>1000.000000</td>\n",
       "      <td>1000.000000</td>\n",
       "    </tr>\n",
       "    <tr>\n",
       "      <th>unique</th>\n",
       "      <td>2</td>\n",
       "      <td>5</td>\n",
       "      <td>6</td>\n",
       "      <td>2</td>\n",
       "      <td>2</td>\n",
       "      <td>NaN</td>\n",
       "      <td>NaN</td>\n",
       "      <td>NaN</td>\n",
       "    </tr>\n",
       "    <tr>\n",
       "      <th>top</th>\n",
       "      <td>female</td>\n",
       "      <td>group C</td>\n",
       "      <td>some college</td>\n",
       "      <td>standard</td>\n",
       "      <td>none</td>\n",
       "      <td>NaN</td>\n",
       "      <td>NaN</td>\n",
       "      <td>NaN</td>\n",
       "    </tr>\n",
       "    <tr>\n",
       "      <th>freq</th>\n",
       "      <td>518</td>\n",
       "      <td>319</td>\n",
       "      <td>226</td>\n",
       "      <td>645</td>\n",
       "      <td>642</td>\n",
       "      <td>NaN</td>\n",
       "      <td>NaN</td>\n",
       "      <td>NaN</td>\n",
       "    </tr>\n",
       "    <tr>\n",
       "      <th>mean</th>\n",
       "      <td>NaN</td>\n",
       "      <td>NaN</td>\n",
       "      <td>NaN</td>\n",
       "      <td>NaN</td>\n",
       "      <td>NaN</td>\n",
       "      <td>66.08900</td>\n",
       "      <td>69.169000</td>\n",
       "      <td>68.054000</td>\n",
       "    </tr>\n",
       "    <tr>\n",
       "      <th>std</th>\n",
       "      <td>NaN</td>\n",
       "      <td>NaN</td>\n",
       "      <td>NaN</td>\n",
       "      <td>NaN</td>\n",
       "      <td>NaN</td>\n",
       "      <td>15.16308</td>\n",
       "      <td>14.600192</td>\n",
       "      <td>15.195657</td>\n",
       "    </tr>\n",
       "    <tr>\n",
       "      <th>min</th>\n",
       "      <td>NaN</td>\n",
       "      <td>NaN</td>\n",
       "      <td>NaN</td>\n",
       "      <td>NaN</td>\n",
       "      <td>NaN</td>\n",
       "      <td>0.00000</td>\n",
       "      <td>17.000000</td>\n",
       "      <td>10.000000</td>\n",
       "    </tr>\n",
       "    <tr>\n",
       "      <th>25%</th>\n",
       "      <td>NaN</td>\n",
       "      <td>NaN</td>\n",
       "      <td>NaN</td>\n",
       "      <td>NaN</td>\n",
       "      <td>NaN</td>\n",
       "      <td>57.00000</td>\n",
       "      <td>59.000000</td>\n",
       "      <td>57.750000</td>\n",
       "    </tr>\n",
       "    <tr>\n",
       "      <th>50%</th>\n",
       "      <td>NaN</td>\n",
       "      <td>NaN</td>\n",
       "      <td>NaN</td>\n",
       "      <td>NaN</td>\n",
       "      <td>NaN</td>\n",
       "      <td>66.00000</td>\n",
       "      <td>70.000000</td>\n",
       "      <td>69.000000</td>\n",
       "    </tr>\n",
       "    <tr>\n",
       "      <th>75%</th>\n",
       "      <td>NaN</td>\n",
       "      <td>NaN</td>\n",
       "      <td>NaN</td>\n",
       "      <td>NaN</td>\n",
       "      <td>NaN</td>\n",
       "      <td>77.00000</td>\n",
       "      <td>79.000000</td>\n",
       "      <td>79.000000</td>\n",
       "    </tr>\n",
       "    <tr>\n",
       "      <th>max</th>\n",
       "      <td>NaN</td>\n",
       "      <td>NaN</td>\n",
       "      <td>NaN</td>\n",
       "      <td>NaN</td>\n",
       "      <td>NaN</td>\n",
       "      <td>100.00000</td>\n",
       "      <td>100.000000</td>\n",
       "      <td>100.000000</td>\n",
       "    </tr>\n",
       "  </tbody>\n",
       "</table>\n",
       "</div>"
      ],
      "text/plain": [
       "        gender race/ethnicity parental level of education     lunch  \\\n",
       "count     1000           1000                        1000      1000   \n",
       "unique       2              5                           6         2   \n",
       "top     female        group C                some college  standard   \n",
       "freq       518            319                         226       645   \n",
       "mean       NaN            NaN                         NaN       NaN   \n",
       "std        NaN            NaN                         NaN       NaN   \n",
       "min        NaN            NaN                         NaN       NaN   \n",
       "25%        NaN            NaN                         NaN       NaN   \n",
       "50%        NaN            NaN                         NaN       NaN   \n",
       "75%        NaN            NaN                         NaN       NaN   \n",
       "max        NaN            NaN                         NaN       NaN   \n",
       "\n",
       "       test preparation course  math score  reading score  writing score  \n",
       "count                     1000  1000.00000    1000.000000    1000.000000  \n",
       "unique                       2         NaN            NaN            NaN  \n",
       "top                       none         NaN            NaN            NaN  \n",
       "freq                       642         NaN            NaN            NaN  \n",
       "mean                       NaN    66.08900      69.169000      68.054000  \n",
       "std                        NaN    15.16308      14.600192      15.195657  \n",
       "min                        NaN     0.00000      17.000000      10.000000  \n",
       "25%                        NaN    57.00000      59.000000      57.750000  \n",
       "50%                        NaN    66.00000      70.000000      69.000000  \n",
       "75%                        NaN    77.00000      79.000000      79.000000  \n",
       "max                        NaN   100.00000     100.000000     100.000000  "
      ]
     },
     "execution_count": 6,
     "metadata": {},
     "output_type": "execute_result"
    }
   ],
   "source": [
    "df.describe(include=\"all\")"
   ]
  },
  {
   "cell_type": "code",
   "execution_count": 7,
   "id": "345261cc",
   "metadata": {
    "execution": {
     "iopub.execute_input": "2023-08-15T18:27:14.936916Z",
     "iopub.status.busy": "2023-08-15T18:27:14.936449Z",
     "iopub.status.idle": "2023-08-15T18:27:14.950325Z",
     "shell.execute_reply": "2023-08-15T18:27:14.949021Z"
    },
    "papermill": {
     "duration": 0.031485,
     "end_time": "2023-08-15T18:27:14.953200",
     "exception": false,
     "start_time": "2023-08-15T18:27:14.921715",
     "status": "completed"
    },
    "tags": []
   },
   "outputs": [
    {
     "data": {
      "text/plain": [
       "gender                         0\n",
       "race/ethnicity                 0\n",
       "parental level of education    0\n",
       "lunch                          0\n",
       "test preparation course        0\n",
       "math score                     0\n",
       "reading score                  0\n",
       "writing score                  0\n",
       "dtype: int64"
      ]
     },
     "execution_count": 7,
     "metadata": {},
     "output_type": "execute_result"
    }
   ],
   "source": [
    "df.isnull().sum()"
   ]
  },
  {
   "cell_type": "code",
   "execution_count": 8,
   "id": "71a46e9f",
   "metadata": {
    "execution": {
     "iopub.execute_input": "2023-08-15T18:27:14.982738Z",
     "iopub.status.busy": "2023-08-15T18:27:14.982115Z",
     "iopub.status.idle": "2023-08-15T18:27:14.997237Z",
     "shell.execute_reply": "2023-08-15T18:27:14.995946Z"
    },
    "papermill": {
     "duration": 0.033759,
     "end_time": "2023-08-15T18:27:15.000331",
     "exception": false,
     "start_time": "2023-08-15T18:27:14.966572",
     "status": "completed"
    },
    "tags": []
   },
   "outputs": [
    {
     "data": {
      "text/plain": [
       "0"
      ]
     },
     "execution_count": 8,
     "metadata": {},
     "output_type": "execute_result"
    }
   ],
   "source": [
    "df.duplicated().sum()"
   ]
  },
  {
   "cell_type": "markdown",
   "id": "299612ec",
   "metadata": {
    "papermill": {
     "duration": 0.014238,
     "end_time": "2023-08-15T18:27:15.029301",
     "exception": false,
     "start_time": "2023-08-15T18:27:15.015063",
     "status": "completed"
    },
    "tags": []
   },
   "source": [
    "<span style=\"color:purple\"> we see that data is already clean and formatted correctly. There is no null values and no duplicate values. our data is ready to analyse. </span>"
   ]
  },
  {
   "cell_type": "code",
   "execution_count": null,
   "id": "8293d150",
   "metadata": {
    "papermill": {
     "duration": 0.013506,
     "end_time": "2023-08-15T18:27:15.058960",
     "exception": false,
     "start_time": "2023-08-15T18:27:15.045454",
     "status": "completed"
    },
    "tags": []
   },
   "outputs": [],
   "source": []
  },
  {
   "cell_type": "markdown",
   "id": "59e19e01",
   "metadata": {
    "papermill": {
     "duration": 0.014303,
     "end_time": "2023-08-15T18:27:15.087963",
     "exception": false,
     "start_time": "2023-08-15T18:27:15.073660",
     "status": "completed"
    },
    "tags": []
   },
   "source": [
    "# <span style=\"color:purple\">Data Analysis and Visualizations </span>\n",
    "we will analyse following,\n",
    "- students performance by gender\n",
    "- students performance by race\n",
    "- students performance by preparation course\n",
    "- students performance by lunch\n",
    "- students performance by parents education\n",
    "\n",
    "Using **matplotlib**, we will get beautiful visualisation for our analysis.\n"
   ]
  },
  {
   "cell_type": "markdown",
   "id": "685874c0",
   "metadata": {
    "papermill": {
     "duration": 0.014234,
     "end_time": "2023-08-15T18:27:15.116993",
     "exception": false,
     "start_time": "2023-08-15T18:27:15.102759",
     "status": "completed"
    },
    "tags": []
   },
   "source": [
    "# <span style=\"color:purple\"> Students Performance by gender  </span>\n",
    "first of all, we will analyse and visualise **Students performance by gender**."
   ]
  },
  {
   "cell_type": "code",
   "execution_count": 9,
   "id": "98f39a7e",
   "metadata": {
    "execution": {
     "iopub.execute_input": "2023-08-15T18:27:15.149641Z",
     "iopub.status.busy": "2023-08-15T18:27:15.149123Z",
     "iopub.status.idle": "2023-08-15T18:27:15.161137Z",
     "shell.execute_reply": "2023-08-15T18:27:15.159635Z"
    },
    "papermill": {
     "duration": 0.031702,
     "end_time": "2023-08-15T18:27:15.164440",
     "exception": false,
     "start_time": "2023-08-15T18:27:15.132738",
     "status": "completed"
    },
    "tags": []
   },
   "outputs": [
    {
     "data": {
      "text/plain": [
       "gender\n",
       "female    518\n",
       "male      482\n",
       "Name: gender, dtype: int64"
      ]
     },
     "execution_count": 9,
     "metadata": {},
     "output_type": "execute_result"
    }
   ],
   "source": [
    "df.groupby(\"gender\")[\"gender\"].count()"
   ]
  },
  {
   "cell_type": "code",
   "execution_count": 10,
   "id": "75833d3f",
   "metadata": {
    "execution": {
     "iopub.execute_input": "2023-08-15T18:27:15.196031Z",
     "iopub.status.busy": "2023-08-15T18:27:15.195541Z",
     "iopub.status.idle": "2023-08-15T18:27:15.449427Z",
     "shell.execute_reply": "2023-08-15T18:27:15.447934Z"
    },
    "papermill": {
     "duration": 0.275895,
     "end_time": "2023-08-15T18:27:15.455449",
     "exception": false,
     "start_time": "2023-08-15T18:27:15.179554",
     "status": "completed"
    },
    "tags": []
   },
   "outputs": [
    {
     "data": {
      "text/plain": [
       "Text(0.5, 1.0, 'Students by gender')"
      ]
     },
     "execution_count": 10,
     "metadata": {},
     "output_type": "execute_result"
    },
    {
     "data": {
      "image/png": "[encoded data removed]",
      "text/plain": [
       "<Figure size 640x480 with 1 Axes>"
      ]
     },
     "metadata": {},
     "output_type": "display_data"
    }
   ],
   "source": [
    "df.groupby(\"gender\")[\"gender\"].count().plot(kind=\"pie\",autopct='%1.0f%%',colors=[\"violet\",\"blue\"])\n",
    "plt.title(\"Students by gender\",color=\"blue\")\n",
    "\n"
   ]
  },
  {
   "cell_type": "code",
   "execution_count": 11,
   "id": "fdeb2929",
   "metadata": {
    "execution": {
     "iopub.execute_input": "2023-08-15T18:27:15.505649Z",
     "iopub.status.busy": "2023-08-15T18:27:15.505182Z",
     "iopub.status.idle": "2023-08-15T18:27:15.527771Z",
     "shell.execute_reply": "2023-08-15T18:27:15.526395Z"
    },
    "papermill": {
     "duration": 0.043612,
     "end_time": "2023-08-15T18:27:15.530810",
     "exception": false,
     "start_time": "2023-08-15T18:27:15.487198",
     "status": "completed"
    },
    "tags": []
   },
   "outputs": [
    {
     "data": {
      "text/html": [
       "<div>\n",
       "<style scoped>\n",
       "    .dataframe tbody tr th:only-of-type {\n",
       "        vertical-align: middle;\n",
       "    }\n",
       "\n",
       "    .dataframe tbody tr th {\n",
       "        vertical-align: top;\n",
       "    }\n",
       "\n",
       "    .dataframe thead th {\n",
       "        text-align: right;\n",
       "    }\n",
       "</style>\n",
       "<table border=\"1\" class=\"dataframe\">\n",
       "  <thead>\n",
       "    <tr style=\"text-align: right;\">\n",
       "      <th></th>\n",
       "      <th>math score</th>\n",
       "      <th>reading score</th>\n",
       "      <th>writing score</th>\n",
       "    </tr>\n",
       "    <tr>\n",
       "      <th>gender</th>\n",
       "      <th></th>\n",
       "      <th></th>\n",
       "      <th></th>\n",
       "    </tr>\n",
       "  </thead>\n",
       "  <tbody>\n",
       "    <tr>\n",
       "      <th>female</th>\n",
       "      <td>63.633205</td>\n",
       "      <td>72.608108</td>\n",
       "      <td>72.467181</td>\n",
       "    </tr>\n",
       "    <tr>\n",
       "      <th>male</th>\n",
       "      <td>68.728216</td>\n",
       "      <td>65.473029</td>\n",
       "      <td>63.311203</td>\n",
       "    </tr>\n",
       "  </tbody>\n",
       "</table>\n",
       "</div>"
      ],
      "text/plain": [
       "        math score  reading score  writing score\n",
       "gender                                          \n",
       "female   63.633205      72.608108      72.467181\n",
       "male     68.728216      65.473029      63.311203"
      ]
     },
     "execution_count": 11,
     "metadata": {},
     "output_type": "execute_result"
    }
   ],
   "source": [
    "df[[\"math score\",\"reading score\",\"writing score\" ,\"gender\"]].groupby(\"gender\").mean()"
   ]
  },
  {
   "cell_type": "code",
   "execution_count": 12,
   "id": "c5689829",
   "metadata": {
    "execution": {
     "iopub.execute_input": "2023-08-15T18:27:15.563486Z",
     "iopub.status.busy": "2023-08-15T18:27:15.562937Z",
     "iopub.status.idle": "2023-08-15T18:27:16.011168Z",
     "shell.execute_reply": "2023-08-15T18:27:16.009652Z"
    },
    "papermill": {
     "duration": 0.468728,
     "end_time": "2023-08-15T18:27:16.014586",
     "exception": false,
     "start_time": "2023-08-15T18:27:15.545858",
     "status": "completed"
    },
    "tags": []
   },
   "outputs": [
    {
     "data": {
      "text/plain": [
       "Text(0, 0.5, 'Students Performance')"
      ]
     },
     "execution_count": 12,
     "metadata": {},
     "output_type": "execute_result"
    },
    {
     "data": {
      "image/png": "[encoded data removed]",
      "text/plain": [
       "<Figure size 640x480 with 1 Axes>"
      ]
     },
     "metadata": {},
     "output_type": "display_data"
    }
   ],
   "source": [
    "ax=df[[\"math score\",\"reading score\",\"writing score\" ,\"gender\"]].groupby(\"gender\").mean().plot(kind=\"bar\",color=[\"brown\",\"blue\",\"yellow\"],title=\"student prformance by gender\", xlabel =\"gender\", ylabel=\"score\")\n",
    "plt.xticks(rotation=0)\n",
    "\n",
    "ax.bar_label(ax.containers[0],color=\"darkred\",fontsize=7)\n",
    "ax.bar_label(ax.containers[1],color=\"blue\",fontsize=7)\n",
    "ax.bar_label(ax.containers[2],color=\"black\",fontsize=6)\n",
    "plt.legend(fontsize=7)\n",
    "plt.title(\"Students Performance by gender\",color=\"blue\")\n",
    "plt.xlabel(\"gender\",color=\"blue\")\n",
    "plt.ylabel(\"Students Performance\",color=\"blue\")\n"
   ]
  },
  {
   "cell_type": "markdown",
   "id": "6ce8f6f4",
   "metadata": {
    "papermill": {
     "duration": 0.015045,
     "end_time": "2023-08-15T18:27:16.046219",
     "exception": false,
     "start_time": "2023-08-15T18:27:16.031174",
     "status": "completed"
    },
    "tags": []
   },
   "source": [
    "<span style=\"color:purple\"> we see that male students are good at mathematics and female students are good at reading and writing. </span>"
   ]
  },
  {
   "cell_type": "markdown",
   "id": "ffbaf8d1",
   "metadata": {
    "papermill": {
     "duration": 0.014607,
     "end_time": "2023-08-15T18:27:16.075841",
     "exception": false,
     "start_time": "2023-08-15T18:27:16.061234",
     "status": "completed"
    },
    "tags": []
   },
   "source": [
    "# <span style=\"color:purple\"> Students Performance by race/ethnicity  </span>\n",
    "Now we will analyse and visualise **Students performance by race/ethnicity**."
   ]
  },
  {
   "cell_type": "code",
   "execution_count": 13,
   "id": "ab7f75bb",
   "metadata": {
    "execution": {
     "iopub.execute_input": "2023-08-15T18:27:16.109545Z",
     "iopub.status.busy": "2023-08-15T18:27:16.109032Z",
     "iopub.status.idle": "2023-08-15T18:27:16.127079Z",
     "shell.execute_reply": "2023-08-15T18:27:16.126119Z"
    },
    "papermill": {
     "duration": 0.03874,
     "end_time": "2023-08-15T18:27:16.129688",
     "exception": false,
     "start_time": "2023-08-15T18:27:16.090948",
     "status": "completed"
    },
    "tags": []
   },
   "outputs": [
    {
     "data": {
      "text/html": [
       "<div>\n",
       "<style scoped>\n",
       "    .dataframe tbody tr th:only-of-type {\n",
       "        vertical-align: middle;\n",
       "    }\n",
       "\n",
       "    .dataframe tbody tr th {\n",
       "        vertical-align: top;\n",
       "    }\n",
       "\n",
       "    .dataframe thead th {\n",
       "        text-align: right;\n",
       "    }\n",
       "</style>\n",
       "<table border=\"1\" class=\"dataframe\">\n",
       "  <thead>\n",
       "    <tr style=\"text-align: right;\">\n",
       "      <th></th>\n",
       "      <th>math score</th>\n",
       "      <th>reading score</th>\n",
       "      <th>writing score</th>\n",
       "    </tr>\n",
       "    <tr>\n",
       "      <th>race/ethnicity</th>\n",
       "      <th></th>\n",
       "      <th></th>\n",
       "      <th></th>\n",
       "    </tr>\n",
       "  </thead>\n",
       "  <tbody>\n",
       "    <tr>\n",
       "      <th>group A</th>\n",
       "      <td>61.629213</td>\n",
       "      <td>64.674157</td>\n",
       "      <td>62.674157</td>\n",
       "    </tr>\n",
       "    <tr>\n",
       "      <th>group B</th>\n",
       "      <td>63.452632</td>\n",
       "      <td>67.352632</td>\n",
       "      <td>65.600000</td>\n",
       "    </tr>\n",
       "    <tr>\n",
       "      <th>group C</th>\n",
       "      <td>64.463950</td>\n",
       "      <td>69.103448</td>\n",
       "      <td>67.827586</td>\n",
       "    </tr>\n",
       "    <tr>\n",
       "      <th>group D</th>\n",
       "      <td>67.362595</td>\n",
       "      <td>70.030534</td>\n",
       "      <td>70.145038</td>\n",
       "    </tr>\n",
       "    <tr>\n",
       "      <th>group E</th>\n",
       "      <td>73.821429</td>\n",
       "      <td>73.028571</td>\n",
       "      <td>71.407143</td>\n",
       "    </tr>\n",
       "  </tbody>\n",
       "</table>\n",
       "</div>"
      ],
      "text/plain": [
       "                math score  reading score  writing score\n",
       "race/ethnicity                                          \n",
       "group A          61.629213      64.674157      62.674157\n",
       "group B          63.452632      67.352632      65.600000\n",
       "group C          64.463950      69.103448      67.827586\n",
       "group D          67.362595      70.030534      70.145038\n",
       "group E          73.821429      73.028571      71.407143"
      ]
     },
     "execution_count": 13,
     "metadata": {},
     "output_type": "execute_result"
    }
   ],
   "source": [
    "df[[\"math score\",\"reading score\",\"writing score\", \"race/ethnicity\"]].groupby(\"race/ethnicity\").mean()"
   ]
  },
  {
   "cell_type": "code",
   "execution_count": 14,
   "id": "5191165f",
   "metadata": {
    "execution": {
     "iopub.execute_input": "2023-08-15T18:27:16.164474Z",
     "iopub.status.busy": "2023-08-15T18:27:16.163303Z",
     "iopub.status.idle": "2023-08-15T18:27:16.571213Z",
     "shell.execute_reply": "2023-08-15T18:27:16.569855Z"
    },
    "papermill": {
     "duration": 0.429246,
     "end_time": "2023-08-15T18:27:16.574648",
     "exception": false,
     "start_time": "2023-08-15T18:27:16.145402",
     "status": "completed"
    },
    "tags": []
   },
   "outputs": [
    {
     "data": {
      "text/plain": [
       "(array([0, 1, 2, 3, 4]),\n",
       " [Text(0, 0, 'group A'),\n",
       "  Text(1, 0, 'group B'),\n",
       "  Text(2, 0, 'group C'),\n",
       "  Text(3, 0, 'group D'),\n",
       "  Text(4, 0, 'group E')])"
      ]
     },
     "execution_count": 14,
     "metadata": {},
     "output_type": "execute_result"
    },
    {
     "data": {
      "image/png": "[encoded data removed]",
      "text/plain": [
       "<Figure size 640x480 with 1 Axes>"
      ]
     },
     "metadata": {},
     "output_type": "display_data"
    }
   ],
   "source": [
    "df[[\"math score\",\"reading score\",\"writing score\", \"race/ethnicity\"]].groupby(\"race/ethnicity\").mean().plot(kind=\"bar\",color=[\"violet\" ,\"green\",\"blue\"])\n",
    "plt.legend(fontsize=6)\n",
    "plt.title(\"Students Performance by race/ethnicity\",color=\"green\")\n",
    "plt.xlabel(\"race/ethnicity\",color=\"green\")\n",
    "plt.ylabel(\"Students Performance\",color=\"green\")\n",
    "plt.xticks(rotation=0)\n"
   ]
  },
  {
   "cell_type": "markdown",
   "id": "3830de5a",
   "metadata": {
    "papermill": {
     "duration": 0.015798,
     "end_time": "2023-08-15T18:27:16.606770",
     "exception": false,
     "start_time": "2023-08-15T18:27:16.590972",
     "status": "completed"
    },
    "tags": []
   },
   "source": [
    "# <span style=\"color:purple\"> Student Performance by parental level of education  </span>\n",
    "now we will analyse and visualise  **Student performance by parental level of education**."
   ]
  },
  {
   "cell_type": "code",
   "execution_count": 15,
   "id": "c63b4df8",
   "metadata": {
    "execution": {
     "iopub.execute_input": "2023-08-15T18:27:16.642179Z",
     "iopub.status.busy": "2023-08-15T18:27:16.641728Z",
     "iopub.status.idle": "2023-08-15T18:27:16.660308Z",
     "shell.execute_reply": "2023-08-15T18:27:16.658919Z"
    },
    "papermill": {
     "duration": 0.040284,
     "end_time": "2023-08-15T18:27:16.663638",
     "exception": false,
     "start_time": "2023-08-15T18:27:16.623354",
     "status": "completed"
    },
    "tags": []
   },
   "outputs": [
    {
     "data": {
      "text/html": [
       "<div>\n",
       "<style scoped>\n",
       "    .dataframe tbody tr th:only-of-type {\n",
       "        vertical-align: middle;\n",
       "    }\n",
       "\n",
       "    .dataframe tbody tr th {\n",
       "        vertical-align: top;\n",
       "    }\n",
       "\n",
       "    .dataframe thead th {\n",
       "        text-align: right;\n",
       "    }\n",
       "</style>\n",
       "<table border=\"1\" class=\"dataframe\">\n",
       "  <thead>\n",
       "    <tr style=\"text-align: right;\">\n",
       "      <th></th>\n",
       "      <th>math score</th>\n",
       "      <th>reading score</th>\n",
       "      <th>writing score</th>\n",
       "    </tr>\n",
       "    <tr>\n",
       "      <th>parental level of education</th>\n",
       "      <th></th>\n",
       "      <th></th>\n",
       "      <th></th>\n",
       "    </tr>\n",
       "  </thead>\n",
       "  <tbody>\n",
       "    <tr>\n",
       "      <th>associate's degree</th>\n",
       "      <td>67.882883</td>\n",
       "      <td>70.927928</td>\n",
       "      <td>69.896396</td>\n",
       "    </tr>\n",
       "    <tr>\n",
       "      <th>bachelor's degree</th>\n",
       "      <td>69.389831</td>\n",
       "      <td>73.000000</td>\n",
       "      <td>73.381356</td>\n",
       "    </tr>\n",
       "    <tr>\n",
       "      <th>high school</th>\n",
       "      <td>62.137755</td>\n",
       "      <td>64.704082</td>\n",
       "      <td>62.448980</td>\n",
       "    </tr>\n",
       "    <tr>\n",
       "      <th>master's degree</th>\n",
       "      <td>69.745763</td>\n",
       "      <td>75.372881</td>\n",
       "      <td>75.677966</td>\n",
       "    </tr>\n",
       "    <tr>\n",
       "      <th>some college</th>\n",
       "      <td>67.128319</td>\n",
       "      <td>69.460177</td>\n",
       "      <td>68.840708</td>\n",
       "    </tr>\n",
       "    <tr>\n",
       "      <th>some high school</th>\n",
       "      <td>63.497207</td>\n",
       "      <td>66.938547</td>\n",
       "      <td>64.888268</td>\n",
       "    </tr>\n",
       "  </tbody>\n",
       "</table>\n",
       "</div>"
      ],
      "text/plain": [
       "                             math score  reading score  writing score\n",
       "parental level of education                                          \n",
       "associate's degree            67.882883      70.927928      69.896396\n",
       "bachelor's degree             69.389831      73.000000      73.381356\n",
       "high school                   62.137755      64.704082      62.448980\n",
       "master's degree               69.745763      75.372881      75.677966\n",
       "some college                  67.128319      69.460177      68.840708\n",
       "some high school              63.497207      66.938547      64.888268"
      ]
     },
     "execution_count": 15,
     "metadata": {},
     "output_type": "execute_result"
    }
   ],
   "source": [
    "df[[\"math score\",\"reading score\",\"writing score\", \"parental level of education\"]].groupby(\"parental level of education\").mean()"
   ]
  },
  {
   "cell_type": "code",
   "execution_count": 16,
   "id": "fb584ffc",
   "metadata": {
    "execution": {
     "iopub.execute_input": "2023-08-15T18:27:16.701320Z",
     "iopub.status.busy": "2023-08-15T18:27:16.700241Z",
     "iopub.status.idle": "2023-08-15T18:27:17.328712Z",
     "shell.execute_reply": "2023-08-15T18:27:17.327307Z"
    },
    "papermill": {
     "duration": 0.650554,
     "end_time": "2023-08-15T18:27:17.331473",
     "exception": false,
     "start_time": "2023-08-15T18:27:16.680919",
     "status": "completed"
    },
    "tags": []
   },
   "outputs": [
    {
     "data": {
      "text/plain": [
       "Text(0, 0.5, 'parental level of education')"
      ]
     },
     "execution_count": 16,
     "metadata": {},
     "output_type": "execute_result"
    },
    {
     "data": {
      "image/png": "[encoded data removed]",
      "text/plain": [
       "<Figure size 640x480 with 1 Axes>"
      ]
     },
     "metadata": {},
     "output_type": "display_data"
    }
   ],
   "source": [
    "df[[\"math score\",\"reading score\",\"writing score\", \"parental level of education\"]].groupby(\"parental level of education\").mean().sort_values(by=\"reading score\",ascending =False).plot(kind=\"barh\",color=[\"green\",\"red\",\"purple\"])\n",
    "#plt.figure(figsize=(20,20),label=False)\n",
    "plt.legend(fontsize=5.5)\n",
    "plt.title(\"Student Performance by parental level of education\",color=\"purple\")\n",
    "plt.xlabel(\"Student Performance\",color=\"purple\")\n",
    "plt.ylabel(\"parental level of education\",color=\"purple\")"
   ]
  },
  {
   "cell_type": "markdown",
   "id": "4751baf0",
   "metadata": {
    "papermill": {
     "duration": 0.017351,
     "end_time": "2023-08-15T18:27:17.367678",
     "exception": false,
     "start_time": "2023-08-15T18:27:17.350327",
     "status": "completed"
    },
    "tags": []
   },
   "source": [
    "# <span style=\"color:purple\"> Student Performance by test preparation course </span>\n",
    "These are some visualizations related to **Student performance by test preparation course**."
   ]
  },
  {
   "cell_type": "code",
   "execution_count": 17,
   "id": "fd4ac3f2",
   "metadata": {
    "execution": {
     "iopub.execute_input": "2023-08-15T18:27:17.405317Z",
     "iopub.status.busy": "2023-08-15T18:27:17.404779Z",
     "iopub.status.idle": "2023-08-15T18:27:17.818238Z",
     "shell.execute_reply": "2023-08-15T18:27:17.817127Z"
    },
    "papermill": {
     "duration": 0.435761,
     "end_time": "2023-08-15T18:27:17.821240",
     "exception": false,
     "start_time": "2023-08-15T18:27:17.385479",
     "status": "completed"
    },
    "tags": []
   },
   "outputs": [
    {
     "data": {
      "text/plain": [
       "(array([0, 1]), [Text(0, 0, 'completed'), Text(1, 0, 'none')])"
      ]
     },
     "execution_count": 17,
     "metadata": {},
     "output_type": "execute_result"
    },
    {
     "data": {
      "image/png": "[encoded data removed]",
      "text/plain": [
       "<Figure size 640x480 with 1 Axes>"
      ]
     },
     "metadata": {},
     "output_type": "display_data"
    }
   ],
   "source": [
    "df[[\"math score\",\"reading score\",\"writing score\", \"test preparation course\"]].groupby(\"test preparation course\").mean().sort_values(by=\"reading score\",ascending =False).plot(kind=\"bar\",color=[\"brown\",\"violet\",\"blue\"])\n",
    "#plt.figure(figsize=(20,20),label=False)\n",
    "plt.legend(fontsize=6)\n",
    "plt.title(\"Student Performance by test preparation course\",color =\"brown\")\n",
    "plt.xlabel(\"test preparation course\",color =\"brown\")\n",
    "plt.ylabel(\"Student Performance\",color =\"brown\")\n",
    "plt.xticks(rotation=0)"
   ]
  },
  {
   "cell_type": "markdown",
   "id": "ea16d8b0",
   "metadata": {
    "papermill": {
     "duration": 0.019044,
     "end_time": "2023-08-15T18:27:17.860979",
     "exception": false,
     "start_time": "2023-08-15T18:27:17.841935",
     "status": "completed"
    },
    "tags": []
   },
   "source": [
    "# <span style=\"color:purple\"> Student Performance by lunch  </span>\n",
    "These are some visualizations related to **Sudent performance by lunch**."
   ]
  },
  {
   "cell_type": "code",
   "execution_count": 18,
   "id": "6e035466",
   "metadata": {
    "execution": {
     "iopub.execute_input": "2023-08-15T18:27:17.900988Z",
     "iopub.status.busy": "2023-08-15T18:27:17.900485Z",
     "iopub.status.idle": "2023-08-15T18:27:18.320482Z",
     "shell.execute_reply": "2023-08-15T18:27:18.319499Z"
    },
    "papermill": {
     "duration": 0.44354,
     "end_time": "2023-08-15T18:27:18.323370",
     "exception": false,
     "start_time": "2023-08-15T18:27:17.879830",
     "status": "completed"
    },
    "tags": []
   },
   "outputs": [
    {
     "data": {
      "text/plain": [
       "(array([0, 1]), [Text(0, 0, 'standard'), Text(1, 0, 'free/reduced')])"
      ]
     },
     "execution_count": 18,
     "metadata": {},
     "output_type": "execute_result"
    },
    {
     "data": {
      "image/png": "[encoded data removed]",
      "text/plain": [
       "<Figure size 640x480 with 1 Axes>"
      ]
     },
     "metadata": {},
     "output_type": "display_data"
    }
   ],
   "source": [
    "df[[\"math score\",\"reading score\",\"writing score\", \"lunch\"]].groupby(\"lunch\").mean().sort_values(by=\"reading score\",ascending =False).plot(kind=\"bar\",color=[\"green\",\"violet\",\"blue\"])\n",
    "#plt.figure(figsize=(20,20),label=False)\n",
    "plt.legend(fontsize=6)\n",
    "plt.title(\"Student Performance by lunch\",color=\"blue\")\n",
    "plt.xlabel(\"lunch\",color=\"blue\")\n",
    "plt.ylabel(\"Student Performance\",color=\"blue\")\n",
    "\n",
    "plt.xticks(rotation=0)"
   ]
  },
  {
   "cell_type": "markdown",
   "id": "47e80520",
   "metadata": {
    "papermill": {
     "duration": 0.01877,
     "end_time": "2023-08-15T18:27:18.361379",
     "exception": false,
     "start_time": "2023-08-15T18:27:18.342609",
     "status": "completed"
    },
    "tags": []
   },
   "source": [
    "# <span style=\"color:purple\"> Conclusion </span>\n"
   ]
  },
  {
   "cell_type": "markdown",
   "id": "6f0fb232",
   "metadata": {
    "papermill": {
     "duration": 0.021244,
     "end_time": "2023-08-15T18:27:18.405032",
     "exception": false,
     "start_time": "2023-08-15T18:27:18.383788",
     "status": "completed"
    },
    "tags": []
   },
   "source": [
    "We analysed given data. Now we can conclude our analysis. We find out that parents education, students gender, course preparation, race\n",
    "and lunch effect on students performance in exams. We see that female\n",
    "students are good at readings and writings and Male students are good at\n",
    "mathematics. Students whose parents are more educated they get better grades\n",
    "in exams. As we can see students whose parents are with master degrees, got\n",
    "higher scores. Race and lunch also effect students performance because good food is necessary for health. Preparation\n",
    "course is also a main reason of good grades. This is obvious who prepare\n",
    "themselves more. They show better performance in exams.\n",
    "So if we want our children perform good in exams we should educate ourselves\n",
    "more because we can guide our children better and help them to learn and earn\n",
    "good grades in exams."
   ]
  },
  {
   "cell_type": "markdown",
   "id": "e0a526ee",
   "metadata": {
    "papermill": {
     "duration": 0.01947,
     "end_time": "2023-08-15T18:27:18.443679",
     "exception": false,
     "start_time": "2023-08-15T18:27:18.424209",
     "status": "completed"
    },
    "tags": []
   },
   "source": [
    "<span style=\"color:purple\"> Thanks for your interest in this **Student performance Analysis**. I will appreciate your comments, upvotes, feed back and your encourgement on my Analysis. Thanks again! </span>"
   ]
  },
  {
   "cell_type": "code",
   "execution_count": null,
   "id": "4f2ba99f",
   "metadata": {
    "papermill": {
     "duration": 0.019731,
     "end_time": "2023-08-15T18:27:18.482381",
     "exception": false,
     "start_time": "2023-08-15T18:27:18.462650",
     "status": "completed"
    },
    "tags": []
   },
   "outputs": [],
   "source": []
  },
  {
   "cell_type": "code",
   "execution_count": null,
   "id": "556fc54e",
   "metadata": {
    "papermill": {
     "duration": 0.019832,
     "end_time": "2023-08-15T18:27:18.523070",
     "exception": false,
     "start_time": "2023-08-15T18:27:18.503238",
     "status": "completed"
    },
    "tags": []
   },
   "outputs": [],
   "source": []
  }
 ],
 "metadata": {
  "kernelspec": {
   "display_name": "Python 3",
   "language": "python",
   "name": "python3"
  },
  "language_info": {
   "codemirror_mode": {
    "name": "ipython",
    "version": 3
   },
   "file_extension": ".py",
   "mimetype": "text/x-python",
   "name": "python",
   "nbconvert_exporter": "python",
   "pygments_lexer": "ipython3",
   "version": "3.10.12"
  },
  "papermill": {
   "default_parameters": {},
   "duration": 19.714422,
   "end_time": "2023-08-15T18:27:19.768847",
   "environment_variables": {},
   "exception": null,
   "input_path": "__notebook__.ipynb",
   "output_path": "__notebook__.ipynb",
   "parameters": {},
   "start_time": "2023-08-15T18:27:00.054425",
   "version": "2.4.0"
  }
 },
 "nbformat": 4,
 "nbformat_minor": 5
}
